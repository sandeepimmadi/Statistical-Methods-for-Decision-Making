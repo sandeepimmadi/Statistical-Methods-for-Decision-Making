{
 "cells": [
  {
   "cell_type": "code",
   "execution_count": 1,
   "metadata": {},
   "outputs": [],
   "source": [
    "import numpy as np\n",
    "import pandas as pd\n",
    "pd.set_option('display.float_format', lambda x: '%.2f' % x)\n",
    "import scipy.stats as stats\n",
    "import matplotlib.pyplot as plt"
   ]
  },
  {
   "cell_type": "code",
   "execution_count": 2,
   "metadata": {},
   "outputs": [],
   "source": [
    "df = pd.read_csv('Lok+Sabha_2019.csv')"
   ]
  },
  {
   "cell_type": "code",
   "execution_count": 26,
   "metadata": {},
   "outputs": [
    {
     "data": {
      "text/plain": [
       "STATE                                       0\n",
       "CONSTITUENCY                                0\n",
       "NAME                                        0\n",
       "WINNER                                      0\n",
       "PARTY                                       0\n",
       "SYMBOL                                      0\n",
       "GENDER                                      0\n",
       "CRIMINAL CASES                             22\n",
       "AGE                                         0\n",
       "CATEGORY                                    0\n",
       "EDUCATION                                   0\n",
       "ASSETS                                     23\n",
       "LIABILITIES                                22\n",
       "GENERAL VOTES                               0\n",
       "POSTAL VOTES                                0\n",
       "TOTAL VOTES                                 0\n",
       "OVER TOTAL ELECTORS IN CONSTITUENCY         0\n",
       "OVER TOTAL VOTES POLLED IN CONSTITUENCY     0\n",
       "TOTAL ELECTORS                              0\n",
       "dtype: int64"
      ]
     },
     "execution_count": 26,
     "metadata": {},
     "output_type": "execute_result"
    }
   ],
   "source": [
    "df.isnull().sum()"
   ]
  },
  {
   "cell_type": "code",
   "execution_count": 3,
   "metadata": {},
   "outputs": [
    {
     "data": {
      "text/html": [
       "<div>\n",
       "<style scoped>\n",
       "    .dataframe tbody tr th:only-of-type {\n",
       "        vertical-align: middle;\n",
       "    }\n",
       "\n",
       "    .dataframe tbody tr th {\n",
       "        vertical-align: top;\n",
       "    }\n",
       "\n",
       "    .dataframe thead th {\n",
       "        text-align: right;\n",
       "    }\n",
       "</style>\n",
       "<table border=\"1\" class=\"dataframe\">\n",
       "  <thead>\n",
       "    <tr style=\"text-align: right;\">\n",
       "      <th></th>\n",
       "      <th>STATE</th>\n",
       "      <th>CONSTITUENCY</th>\n",
       "      <th>NAME</th>\n",
       "      <th>WINNER</th>\n",
       "      <th>PARTY</th>\n",
       "      <th>SYMBOL</th>\n",
       "      <th>GENDER</th>\n",
       "      <th>CRIMINAL CASES</th>\n",
       "      <th>AGE</th>\n",
       "      <th>CATEGORY</th>\n",
       "      <th>EDUCATION</th>\n",
       "      <th>ASSETS</th>\n",
       "      <th>LIABILITIES</th>\n",
       "      <th>GENERAL VOTES</th>\n",
       "      <th>POSTAL VOTES</th>\n",
       "      <th>TOTAL VOTES</th>\n",
       "      <th>OVER TOTAL ELECTORS IN CONSTITUENCY</th>\n",
       "      <th>OVER TOTAL VOTES POLLED IN CONSTITUENCY</th>\n",
       "      <th>TOTAL ELECTORS</th>\n",
       "    </tr>\n",
       "  </thead>\n",
       "  <tbody>\n",
       "    <tr>\n",
       "      <th>0</th>\n",
       "      <td>Telangana</td>\n",
       "      <td>ADILABAD</td>\n",
       "      <td>SOYAM BAPU RAO</td>\n",
       "      <td>1</td>\n",
       "      <td>BJP</td>\n",
       "      <td>Lotus</td>\n",
       "      <td>MALE</td>\n",
       "      <td>52.00</td>\n",
       "      <td>52</td>\n",
       "      <td>ST</td>\n",
       "      <td>Basic Level</td>\n",
       "      <td>3099414.00</td>\n",
       "      <td>231450.00</td>\n",
       "      <td>376892</td>\n",
       "      <td>482</td>\n",
       "      <td>377374</td>\n",
       "      <td>25.33</td>\n",
       "      <td>35.47</td>\n",
       "      <td>1489790</td>\n",
       "    </tr>\n",
       "    <tr>\n",
       "      <th>1</th>\n",
       "      <td>Telangana</td>\n",
       "      <td>ADILABAD</td>\n",
       "      <td>Godam Nagesh</td>\n",
       "      <td>0</td>\n",
       "      <td>TRS</td>\n",
       "      <td>Car</td>\n",
       "      <td>MALE</td>\n",
       "      <td>0.00</td>\n",
       "      <td>54</td>\n",
       "      <td>ST</td>\n",
       "      <td>Post Graduate</td>\n",
       "      <td>18477888.00</td>\n",
       "      <td>847000.00</td>\n",
       "      <td>318665</td>\n",
       "      <td>149</td>\n",
       "      <td>318814</td>\n",
       "      <td>21.40</td>\n",
       "      <td>29.96</td>\n",
       "      <td>1489790</td>\n",
       "    </tr>\n",
       "    <tr>\n",
       "      <th>2</th>\n",
       "      <td>Telangana</td>\n",
       "      <td>ADILABAD</td>\n",
       "      <td>RATHOD RAMESH</td>\n",
       "      <td>0</td>\n",
       "      <td>INC</td>\n",
       "      <td>Hand</td>\n",
       "      <td>MALE</td>\n",
       "      <td>3.00</td>\n",
       "      <td>52</td>\n",
       "      <td>ST</td>\n",
       "      <td>Basic Level</td>\n",
       "      <td>36491000.00</td>\n",
       "      <td>15300000.00</td>\n",
       "      <td>314057</td>\n",
       "      <td>181</td>\n",
       "      <td>314238</td>\n",
       "      <td>21.09</td>\n",
       "      <td>29.53</td>\n",
       "      <td>1489790</td>\n",
       "    </tr>\n",
       "    <tr>\n",
       "      <th>3</th>\n",
       "      <td>Uttar Pradesh</td>\n",
       "      <td>AGRA</td>\n",
       "      <td>Satyapal Singh Baghel</td>\n",
       "      <td>1</td>\n",
       "      <td>BJP</td>\n",
       "      <td>Lotus</td>\n",
       "      <td>MALE</td>\n",
       "      <td>5.00</td>\n",
       "      <td>58</td>\n",
       "      <td>SC</td>\n",
       "      <td>Doctorate</td>\n",
       "      <td>74274036.00</td>\n",
       "      <td>8606522.00</td>\n",
       "      <td>644459</td>\n",
       "      <td>2416</td>\n",
       "      <td>646875</td>\n",
       "      <td>33.38</td>\n",
       "      <td>56.46</td>\n",
       "      <td>1937690</td>\n",
       "    </tr>\n",
       "    <tr>\n",
       "      <th>4</th>\n",
       "      <td>Uttar Pradesh</td>\n",
       "      <td>AGRA</td>\n",
       "      <td>Manoj Kumar Soni</td>\n",
       "      <td>0</td>\n",
       "      <td>BSP</td>\n",
       "      <td>Elephant</td>\n",
       "      <td>MALE</td>\n",
       "      <td>0.00</td>\n",
       "      <td>47</td>\n",
       "      <td>SC</td>\n",
       "      <td>Post Graduate</td>\n",
       "      <td>133784385.00</td>\n",
       "      <td>22251891.00</td>\n",
       "      <td>434199</td>\n",
       "      <td>1130</td>\n",
       "      <td>435329</td>\n",
       "      <td>22.47</td>\n",
       "      <td>38.00</td>\n",
       "      <td>1937690</td>\n",
       "    </tr>\n",
       "  </tbody>\n",
       "</table>\n",
       "</div>"
      ],
      "text/plain": [
       "           STATE CONSTITUENCY                   NAME  WINNER PARTY    SYMBOL  \\\n",
       "0      Telangana     ADILABAD         SOYAM BAPU RAO       1   BJP     Lotus   \n",
       "1      Telangana     ADILABAD           Godam Nagesh       0   TRS       Car   \n",
       "2      Telangana     ADILABAD          RATHOD RAMESH       0   INC      Hand   \n",
       "3  Uttar Pradesh         AGRA  Satyapal Singh Baghel       1   BJP     Lotus   \n",
       "4  Uttar Pradesh         AGRA       Manoj Kumar Soni       0   BSP  Elephant   \n",
       "\n",
       "  GENDER  CRIMINAL CASES  AGE CATEGORY      EDUCATION       ASSETS  \\\n",
       "0   MALE           52.00   52       ST    Basic Level   3099414.00   \n",
       "1   MALE            0.00   54       ST  Post Graduate  18477888.00   \n",
       "2   MALE            3.00   52       ST    Basic Level  36491000.00   \n",
       "3   MALE            5.00   58       SC      Doctorate  74274036.00   \n",
       "4   MALE            0.00   47       SC  Post Graduate 133784385.00   \n",
       "\n",
       "   LIABILITIES  GENERAL VOTES  POSTAL VOTES  TOTAL VOTES  \\\n",
       "0    231450.00         376892           482       377374   \n",
       "1    847000.00         318665           149       318814   \n",
       "2  15300000.00         314057           181       314238   \n",
       "3   8606522.00         644459          2416       646875   \n",
       "4  22251891.00         434199          1130       435329   \n",
       "\n",
       "   OVER TOTAL ELECTORS IN CONSTITUENCY  \\\n",
       "0                                25.33   \n",
       "1                                21.40   \n",
       "2                                21.09   \n",
       "3                                33.38   \n",
       "4                                22.47   \n",
       "\n",
       "   OVER TOTAL VOTES POLLED IN CONSTITUENCY  TOTAL ELECTORS  \n",
       "0                                    35.47         1489790  \n",
       "1                                    29.96         1489790  \n",
       "2                                    29.53         1489790  \n",
       "3                                    56.46         1937690  \n",
       "4                                    38.00         1937690  "
      ]
     },
     "execution_count": 3,
     "metadata": {},
     "output_type": "execute_result"
    }
   ],
   "source": [
    "df.head()"
   ]
  },
  {
   "cell_type": "markdown",
   "metadata": {},
   "source": [
    "# 2.1. For this data, construct the following contingency tables (Keep Gender as row variable)\n",
    "\n",
    "2.1.1. Gender and Winner\n",
    "\n",
    "2.1.2. Gender and Education"
   ]
  },
  {
   "cell_type": "code",
   "execution_count": 5,
   "metadata": {},
   "outputs": [
    {
     "data": {
      "text/html": [
       "<div>\n",
       "<style scoped>\n",
       "    .dataframe tbody tr th:only-of-type {\n",
       "        vertical-align: middle;\n",
       "    }\n",
       "\n",
       "    .dataframe tbody tr th {\n",
       "        vertical-align: top;\n",
       "    }\n",
       "\n",
       "    .dataframe thead th {\n",
       "        text-align: right;\n",
       "    }\n",
       "</style>\n",
       "<table border=\"1\" class=\"dataframe\">\n",
       "  <thead>\n",
       "    <tr style=\"text-align: right;\">\n",
       "      <th>WINNER</th>\n",
       "      <th>0</th>\n",
       "      <th>1</th>\n",
       "    </tr>\n",
       "    <tr>\n",
       "      <th>GENDER</th>\n",
       "      <th></th>\n",
       "      <th></th>\n",
       "    </tr>\n",
       "  </thead>\n",
       "  <tbody>\n",
       "    <tr>\n",
       "      <th>FEMALE</th>\n",
       "      <td>182</td>\n",
       "      <td>76</td>\n",
       "    </tr>\n",
       "    <tr>\n",
       "      <th>MALE</th>\n",
       "      <td>1297</td>\n",
       "      <td>463</td>\n",
       "    </tr>\n",
       "  </tbody>\n",
       "</table>\n",
       "</div>"
      ],
      "text/plain": [
       "WINNER     0    1\n",
       "GENDER           \n",
       "FEMALE   182   76\n",
       "MALE    1297  463"
      ]
     },
     "execution_count": 5,
     "metadata": {},
     "output_type": "execute_result"
    }
   ],
   "source": [
    "pd.crosstab(df['GENDER'],df['WINNER'])"
   ]
  },
  {
   "cell_type": "code",
   "execution_count": 7,
   "metadata": {},
   "outputs": [
    {
     "data": {
      "text/html": [
       "<div>\n",
       "<style scoped>\n",
       "    .dataframe tbody tr th:only-of-type {\n",
       "        vertical-align: middle;\n",
       "    }\n",
       "\n",
       "    .dataframe tbody tr th {\n",
       "        vertical-align: top;\n",
       "    }\n",
       "\n",
       "    .dataframe thead th {\n",
       "        text-align: right;\n",
       "    }\n",
       "</style>\n",
       "<table border=\"1\" class=\"dataframe\">\n",
       "  <thead>\n",
       "    <tr style=\"text-align: right;\">\n",
       "      <th>EDUCATION</th>\n",
       "      <th>Basic Level</th>\n",
       "      <th>Doctorate</th>\n",
       "      <th>Graduate</th>\n",
       "      <th>Illiterate</th>\n",
       "      <th>Post Graduate</th>\n",
       "    </tr>\n",
       "    <tr>\n",
       "      <th>GENDER</th>\n",
       "      <th></th>\n",
       "      <th></th>\n",
       "      <th></th>\n",
       "      <th></th>\n",
       "      <th></th>\n",
       "    </tr>\n",
       "  </thead>\n",
       "  <tbody>\n",
       "    <tr>\n",
       "      <th>FEMALE</th>\n",
       "      <td>59</td>\n",
       "      <td>10</td>\n",
       "      <td>95</td>\n",
       "      <td>7</td>\n",
       "      <td>87</td>\n",
       "    </tr>\n",
       "    <tr>\n",
       "      <th>MALE</th>\n",
       "      <td>529</td>\n",
       "      <td>63</td>\n",
       "      <td>682</td>\n",
       "      <td>70</td>\n",
       "      <td>416</td>\n",
       "    </tr>\n",
       "  </tbody>\n",
       "</table>\n",
       "</div>"
      ],
      "text/plain": [
       "EDUCATION  Basic Level  Doctorate  Graduate  Illiterate  Post Graduate\n",
       "GENDER                                                                \n",
       "FEMALE              59         10        95           7             87\n",
       "MALE               529         63       682          70            416"
      ]
     },
     "execution_count": 7,
     "metadata": {},
     "output_type": "execute_result"
    }
   ],
   "source": [
    "pd.crosstab(df['GENDER'],df['EDUCATION'])"
   ]
  },
  {
   "cell_type": "markdown",
   "metadata": {},
   "source": [
    "# 2.2. Assume that the sample is representative of the population. Based on the data, answer the following question:\n",
    "\n",
    "2.2.1. What is the probability that a randomly selected candidate will be male?\n",
    "\n",
    "2.2.2. What is the probability that a randomly selected candidate will be female?"
   ]
  },
  {
   "cell_type": "code",
   "execution_count": 8,
   "metadata": {},
   "outputs": [
    {
     "data": {
      "text/plain": [
       "MALE      1760\n",
       "FEMALE     258\n",
       "Name: GENDER, dtype: int64"
      ]
     },
     "execution_count": 8,
     "metadata": {},
     "output_type": "execute_result"
    }
   ],
   "source": [
    "df['GENDER'].value_counts()"
   ]
  },
  {
   "cell_type": "code",
   "execution_count": 9,
   "metadata": {},
   "outputs": [
    {
     "name": "stdout",
     "output_type": "stream",
     "text": [
      "Probability that a randomly selected candidate will be male: 0.8721506442021804\n"
     ]
    }
   ],
   "source": [
    "print('Probability that a randomly selected candidate will be male:',1760/len(df['GENDER']))"
   ]
  },
  {
   "cell_type": "code",
   "execution_count": 10,
   "metadata": {
    "scrolled": false
   },
   "outputs": [
    {
     "name": "stdout",
     "output_type": "stream",
     "text": [
      "Probability that a randomly selected candidate will be female: 0.1278493557978196\n"
     ]
    }
   ],
   "source": [
    "print('Probability that a randomly selected candidate will be female:',258/len(df['GENDER']))"
   ]
  },
  {
   "cell_type": "markdown",
   "metadata": {},
   "source": [
    "# 2.3. Assume that the sample is representative of the population. Based on the data, answer the following question:\n",
    "\n",
    "2.3.1. Find the conditional probability of different education level among the male candidates.\n",
    "\n",
    "2.3.2 Find the conditional probability of different education level among the female candidates."
   ]
  },
  {
   "cell_type": "code",
   "execution_count": 11,
   "metadata": {},
   "outputs": [
    {
     "data": {
      "text/html": [
       "<div>\n",
       "<style scoped>\n",
       "    .dataframe tbody tr th:only-of-type {\n",
       "        vertical-align: middle;\n",
       "    }\n",
       "\n",
       "    .dataframe tbody tr th {\n",
       "        vertical-align: top;\n",
       "    }\n",
       "\n",
       "    .dataframe thead th {\n",
       "        text-align: right;\n",
       "    }\n",
       "</style>\n",
       "<table border=\"1\" class=\"dataframe\">\n",
       "  <thead>\n",
       "    <tr style=\"text-align: right;\">\n",
       "      <th>EDUCATION</th>\n",
       "      <th>Basic Level</th>\n",
       "      <th>Doctorate</th>\n",
       "      <th>Graduate</th>\n",
       "      <th>Illiterate</th>\n",
       "      <th>Post Graduate</th>\n",
       "    </tr>\n",
       "    <tr>\n",
       "      <th>GENDER</th>\n",
       "      <th></th>\n",
       "      <th></th>\n",
       "      <th></th>\n",
       "      <th></th>\n",
       "      <th></th>\n",
       "    </tr>\n",
       "  </thead>\n",
       "  <tbody>\n",
       "    <tr>\n",
       "      <th>FEMALE</th>\n",
       "      <td>59</td>\n",
       "      <td>10</td>\n",
       "      <td>95</td>\n",
       "      <td>7</td>\n",
       "      <td>87</td>\n",
       "    </tr>\n",
       "    <tr>\n",
       "      <th>MALE</th>\n",
       "      <td>529</td>\n",
       "      <td>63</td>\n",
       "      <td>682</td>\n",
       "      <td>70</td>\n",
       "      <td>416</td>\n",
       "    </tr>\n",
       "  </tbody>\n",
       "</table>\n",
       "</div>"
      ],
      "text/plain": [
       "EDUCATION  Basic Level  Doctorate  Graduate  Illiterate  Post Graduate\n",
       "GENDER                                                                \n",
       "FEMALE              59         10        95           7             87\n",
       "MALE               529         63       682          70            416"
      ]
     },
     "execution_count": 11,
     "metadata": {},
     "output_type": "execute_result"
    }
   ],
   "source": [
    "pd.crosstab(df['GENDER'],df['EDUCATION'])"
   ]
  },
  {
   "cell_type": "markdown",
   "metadata": {},
   "source": [
    "P (education | male) = P (education ∩ male)/ P(male)\n",
    "\n",
    "P (education | female) = P (education ∩ female)/ P(female)"
   ]
  },
  {
   "cell_type": "code",
   "execution_count": 14,
   "metadata": {},
   "outputs": [
    {
     "name": "stdout",
     "output_type": "stream",
     "text": [
      "Among MALE candidates:\n",
      "Probability of Basic Level of education: 0.30056818181818185\n",
      "Probability of having a Doctorate: 0.03579545454545455\n",
      "Probability of being a graduate: 0.3875\n",
      "Probability of being illiterate: 0.03977272727272727\n",
      "Probability of being a post graduate: 0.23636363636363636\n",
      "\n",
      "Among FEMALE candidates:\n",
      "Probability of Basic Level of education: 0.22868217054263565\n",
      "Probability of having a Doctorate: 0.03875968992248062\n",
      "Probability of being a graduate: 0.3682170542635659\n",
      "Probability of being illiterate: 0.027131782945736434\n",
      "Probability of being a post graduate: 0.3372093023255814\n"
     ]
    }
   ],
   "source": [
    "print('Among MALE candidates:')\n",
    "print('Probability of Basic Level of education:',529/1760)\n",
    "print('Probability of having a Doctorate:',63/1760)\n",
    "print('Probability of being a graduate:',682/1760)\n",
    "print('Probability of being illiterate:',70/1760)\n",
    "print('Probability of being a post graduate:',416/1760)\n",
    "print()\n",
    "print('Among FEMALE candidates:')\n",
    "print('Probability of Basic Level of education:',59/258)\n",
    "print('Probability of having a Doctorate:',10/258)\n",
    "print('Probability of being a graduate:',95/258)\n",
    "print('Probability of being illiterate:',7/258)\n",
    "print('Probability of being a post graduate:',87/258)"
   ]
  },
  {
   "cell_type": "markdown",
   "metadata": {},
   "source": [
    "# 2.4. Assume that the sample is a representative of the population. Based on the data, answer the following question:\n",
    "\n",
    "2.4.1. Find the probability that a randomly selected candidate is a male and is a winner.\n",
    "\n",
    "2.4.2 Find the probability that a randomly selected candidate is a female and is not illiterate."
   ]
  },
  {
   "cell_type": "code",
   "execution_count": 16,
   "metadata": {},
   "outputs": [
    {
     "name": "stdout",
     "output_type": "stream",
     "text": [
      "P(Winner ∩ Male) = P (Winner| Male) x P (male) =  0.22943508424182357\n"
     ]
    }
   ],
   "source": [
    "print(\"P(Winner ∩ Male) = P (Winner| Male) x P (male) = \",(463/1760) * (1760/2018))"
   ]
  },
  {
   "cell_type": "code",
   "execution_count": 17,
   "metadata": {},
   "outputs": [
    {
     "name": "stdout",
     "output_type": "stream",
     "text": [
      "P(not illiterate ∩ Female) = P (not illiterate | Female) x P (Female) =  0.12438057482656094\n"
     ]
    }
   ],
   "source": [
    "print(\"P(not illiterate ∩ Female) = P (not illiterate | Female) x P (Female) = \",(251/258) * (258/2018))"
   ]
  },
  {
   "cell_type": "markdown",
   "metadata": {},
   "source": [
    "# 2.5. Do you think the being a winner and being a female candidate are independent events?"
   ]
  },
  {
   "cell_type": "markdown",
   "metadata": {},
   "source": [
    "For 2 events to be independent, following condition is to be satified\n",
    "\n",
    "P(A ∩ B) = P(A) * P(B)\n",
    "\n",
    "So,\n",
    "P (Winner ∩ Female) = P(Winner) * P(Female)\n",
    "\n",
    "P(Female) = 258/2018 = 0.12784935579\n",
    "\n",
    "P(Winner) = 539/2018 = 0.26709613478\n",
    "\n",
    "P(Winner) * P(Female) = 0.26709613478 × 0.12784935579 = 0.03414806876\n",
    "\n",
    "P (Winner ∩ Female) = 76/2018 = 0.03766105054\n",
    "\n",
    "This is not independent events as probability multiplication of both events is not equal to combined event, so being a winner and being female candidate are not independent events."
   ]
  }
 ],
 "metadata": {
  "kernelspec": {
   "display_name": "Python 3",
   "language": "python",
   "name": "python3"
  },
  "language_info": {
   "codemirror_mode": {
    "name": "ipython",
    "version": 3
   },
   "file_extension": ".py",
   "mimetype": "text/x-python",
   "name": "python",
   "nbconvert_exporter": "python",
   "pygments_lexer": "ipython3",
   "version": "3.8.5"
  }
 },
 "nbformat": 4,
 "nbformat_minor": 4
}
